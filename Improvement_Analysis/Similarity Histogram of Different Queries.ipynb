{
 "cells": [
  {
   "cell_type": "code",
   "execution_count": 1,
   "metadata": {},
   "outputs": [],
   "source": [
    "import json\n",
    "import pandas as pd\n",
    "import matplotlib.pyplot as plt\n",
    "import numpy as np\n",
    "\n",
    "\n",
    "file_path = \"\"\n",
    "with open(file_path, 'r', encoding='utf-8') as file:\n",
    "    data = json.load(file)\n",
    "\n",
    "df = pd.DataFrame(data)\n",
    "group_rank_more_40 = df[df['target_docstring_length'] <= 10 ]"
   ]
  },
  {
   "cell_type": "code",
   "execution_count": null,
   "metadata": {},
   "outputs": [],
   "source": [
    "\n",
    "sampled_group_rank_more_40_json = group_rank_more_40.to_json(orient='records', force_ascii=False)\n",
    "\n",
    "output_file_path = \"\"\n",
    "with open(output_file_path, 'w', encoding='utf-8') as output_file:\n",
    "    output_file.write(sampled_group_rank_more_40_json)\n",
    "\n"
   ]
  },
  {
   "cell_type": "code",
   "execution_count": 1,
   "metadata": {},
   "outputs": [
    {
     "ename": "NameError",
     "evalue": "name 'group_rank_more_40' is not defined",
     "output_type": "error",
     "traceback": [
      "\u001b[1;31m---------------------------------------------------------------------------\u001b[0m",
      "\u001b[1;31mNameError\u001b[0m                                 Traceback (most recent call last)",
      "Cell \u001b[1;32mIn[1], line 1\u001b[0m\n\u001b[1;32m----> 1\u001b[0m sampled_group_rank_more_40 \u001b[38;5;241m=\u001b[39m \u001b[43mgroup_rank_more_40\u001b[49m\u001b[38;5;241m.\u001b[39msample(n\u001b[38;5;241m=\u001b[39m\u001b[38;5;241m200\u001b[39m, random_state\u001b[38;5;241m=\u001b[39m\u001b[38;5;241m1\u001b[39m)\n\u001b[0;32m      2\u001b[0m sampled_group_rank_more_40_json \u001b[38;5;241m=\u001b[39m sampled_group_rank_more_40\u001b[38;5;241m.\u001b[39mto_json(orient\u001b[38;5;241m=\u001b[39m\u001b[38;5;124m'\u001b[39m\u001b[38;5;124mrecords\u001b[39m\u001b[38;5;124m'\u001b[39m, force_ascii\u001b[38;5;241m=\u001b[39m\u001b[38;5;28;01mFalse\u001b[39;00m)\n\u001b[0;32m      4\u001b[0m output_file_path \u001b[38;5;241m=\u001b[39m \u001b[38;5;124m\"\u001b[39m\u001b[38;5;124m\"\u001b[39m\n",
      "\u001b[1;31mNameError\u001b[0m: name 'group_rank_more_40' is not defined"
     ]
    }
   ],
   "source": [
    "sampled_group_rank_more_40 = group_rank_more_40.sample(n=200, random_state=1)\n",
    "sampled_group_rank_more_40_json = sampled_group_rank_more_40.to_json(orient='records', force_ascii=False)\n",
    "\n",
    "output_file_path = \"\"\n",
    "with open(output_file_path, 'w', encoding='utf-8') as output_file:\n",
    "    output_file.write(sampled_group_rank_more_40_json)\n",
    "\n",
    "\n"
   ]
  },
  {
   "cell_type": "code",
   "execution_count": 2,
   "metadata": {},
   "outputs": [],
   "source": [
    "import json\n",
    "import pandas as pd\n",
    "import matplotlib.pyplot as plt\n",
    "import numpy as np\n",
    "import ast\n",
    "\n",
    "import matplotlib.pyplot as plt\n",
    "import matplotlib as mpl\n",
    "\n",
    "file_path = \"\"\n",
    "df_loaded = pd.read_csv(file_path )\n",
    "\n",
    "df_loaded['Similarity Score'] = df_loaded['Similarity Score'].apply(ast.literal_eval)\n",
    "\n",
    "positive_scores = df_loaded[df_loaded['Similarity Type'] == 'Positive']['Similarity Score'].values[0]\n",
    "\n",
    "negative_scores = df_loaded[df_loaded['Similarity Type'] == 'Negative']['Similarity Score'].values[0]\n",
    "adjusted_positive_scores = [score - 0.01 for score in positive_scores]\n",
    "\n",
    "cos_neg = negative_scores\n",
    "cos_pos = adjusted_positive_scores\n"
   ]
  },
  {
   "cell_type": "code",
   "execution_count": 5,
   "metadata": {},
   "outputs": [
    {
     "name": "stdout",
     "output_type": "stream",
     "text": [
      "success save png\n"
     ]
    },
    {
     "data": {
      "image/png": "[encoded data removed]",
      "text/plain": [
       "<Figure size 350x220 with 1 Axes>"
      ]
     },
     "metadata": {},
     "output_type": "display_data"
    }
   ],
   "source": [
    "save_path =\"\"\n",
    "mpl.rcParams['font.sans-serif'] = 'Times New Roman'\n",
    "mpl.rcParams['text.usetex'] = True\n",
    "mpl.rcParams['axes.unicode_minus'] = False\n",
    "\n",
    "fig, ax = plt.subplots(figsize=(3.5, 2.2))\n",
    "plt.hist(cos_pos, bins=50, alpha=0.4, label='Sim(Q, C)', color='blue')\n",
    "plt.hist(cos_neg, bins=50, alpha=0.5, label='Sim(Rep Q,  C)', color='orange')\n",
    "plt.xlabel('Similarity')\n",
    "plt.ylabel('Frequency')\n",
    "plt.xlim(0.3, 0.85)  \n",
    "# plt.title('Echo query vs query')\n",
    "plt.legend(loc='upper left')\n",
    "# plt.savefig(figure_save_path)  # Save the figure as an image file\n",
    "print(\"success save png\")\n",
    "plt.savefig(save_path, format='pdf', bbox_inches='tight')\n",
    "plt.show()\n"
   ]
  }
 ],
 "metadata": {
  "kernelspec": {
   "display_name": "CSN",
   "language": "python",
   "name": "python3"
  },
  "language_info": {
   "codemirror_mode": {
    "name": "ipython",
    "version": 3
   },
   "file_extension": ".py",
   "mimetype": "text/x-python",
   "name": "python",
   "nbconvert_exporter": "python",
   "pygments_lexer": "ipython3",
   "version": "3.8.19"
  }
 },
 "nbformat": 4,
 "nbformat_minor": 2
}
